{
 "cells": [
  {
   "cell_type": "code",
   "execution_count": 1,
   "metadata": {},
   "outputs": [],
   "source": [
    "range?\n"
   ]
  },
  {
   "cell_type": "code",
   "execution_count": 2,
   "metadata": {},
   "outputs": [
    {
     "data": {
      "text/plain": [
       "range(0, 10)"
      ]
     },
     "execution_count": 2,
     "metadata": {},
     "output_type": "execute_result"
    }
   ],
   "source": [
    "range(10)"
   ]
  },
  {
   "cell_type": "code",
   "execution_count": 3,
   "metadata": {},
   "outputs": [
    {
     "ename": "SyntaxError",
     "evalue": "invalid syntax (<ipython-input-3-57e05840a2f8>, line 1)",
     "output_type": "error",
     "traceback": [
      "\u001b[1;36m  File \u001b[1;32m\"<ipython-input-3-57e05840a2f8>\"\u001b[1;36m, line \u001b[1;32m1\u001b[0m\n\u001b[1;33m    for i in range(0..10)\u001b[0m\n\u001b[1;37m                       ^\u001b[0m\n\u001b[1;31mSyntaxError\u001b[0m\u001b[1;31m:\u001b[0m invalid syntax\n"
     ]
    }
   ],
   "source": [
    "for i in range(0..10)\n",
    "    print(i)"
   ]
  },
  {
   "cell_type": "code",
   "execution_count": 4,
   "metadata": {},
   "outputs": [
    {
     "name": "stdout",
     "output_type": "stream",
     "text": [
      "range(0, 10)\n"
     ]
    }
   ],
   "source": [
    "print(range(0,10))"
   ]
  },
  {
   "cell_type": "code",
   "execution_count": 5,
   "metadata": {},
   "outputs": [
    {
     "name": "stdout",
     "output_type": "stream",
     "text": [
      "0\n",
      "1\n",
      "2\n",
      "3\n",
      "4\n",
      "5\n",
      "6\n",
      "7\n",
      "8\n",
      "9\n"
     ]
    }
   ],
   "source": [
    "for i in range(0,10):\n",
    "    print(i)"
   ]
  },
  {
   "cell_type": "code",
   "execution_count": 6,
   "metadata": {},
   "outputs": [
    {
     "name": "stdout",
     "output_type": "stream",
     "text": [
      "Good day\n",
      "Good day\n",
      "Good day\n",
      "Good day\n",
      "Good day\n"
     ]
    }
   ],
   "source": [
    "for i in range(0,5):\n",
    "    print(\"Good day\")"
   ]
  },
  {
   "cell_type": "code",
   "execution_count": 7,
   "metadata": {},
   "outputs": [
    {
     "ename": "NameError",
     "evalue": "name 'cube' is not defined",
     "output_type": "error",
     "traceback": [
      "\u001b[1;31m---------------------------------------------------------------------------\u001b[0m",
      "\u001b[1;31mNameError\u001b[0m                                 Traceback (most recent call last)",
      "\u001b[1;32m<ipython-input-7-3fae6d595cb0>\u001b[0m in \u001b[0;36m<module>\u001b[1;34m\u001b[0m\n\u001b[0;32m      1\u001b[0m \u001b[1;32mfor\u001b[0m \u001b[0mi\u001b[0m \u001b[1;32min\u001b[0m \u001b[0mrange\u001b[0m\u001b[1;33m(\u001b[0m\u001b[1;36m0\u001b[0m\u001b[1;33m,\u001b[0m\u001b[1;36m10\u001b[0m\u001b[1;33m)\u001b[0m\u001b[1;33m:\u001b[0m\u001b[1;33m\u001b[0m\u001b[1;33m\u001b[0m\u001b[0m\n\u001b[1;32m----> 2\u001b[1;33m     \u001b[0mcube\u001b[0m\u001b[1;33m=\u001b[0m\u001b[0mcube\u001b[0m\u001b[1;33m**\u001b[0m\u001b[1;36m3\u001b[0m\u001b[1;33m\u001b[0m\u001b[1;33m\u001b[0m\u001b[0m\n\u001b[0m\u001b[0;32m      3\u001b[0m     \u001b[0mprint\u001b[0m\u001b[1;33m(\u001b[0m\u001b[0mcube\u001b[0m\u001b[1;33m)\u001b[0m\u001b[1;33m\u001b[0m\u001b[1;33m\u001b[0m\u001b[0m\n",
      "\u001b[1;31mNameError\u001b[0m: name 'cube' is not defined"
     ]
    }
   ],
   "source": [
    "for i in range(0,10):\n",
    "    cube=cube**3\n",
    "    print(cube)"
   ]
  },
  {
   "cell_type": "code",
   "execution_count": 8,
   "metadata": {},
   "outputs": [
    {
     "name": "stdout",
     "output_type": "stream",
     "text": [
      "0\n",
      "0\n",
      "0\n",
      "0\n",
      "0\n",
      "0\n",
      "0\n",
      "0\n",
      "0\n",
      "0\n"
     ]
    }
   ],
   "source": [
    "cube=0\n",
    "for i in range(0,10):\n",
    "    cube=cube**3\n",
    "    print(cube)"
   ]
  },
  {
   "cell_type": "code",
   "execution_count": 2,
   "metadata": {},
   "outputs": [
    {
     "name": "stdout",
     "output_type": "stream",
     "text": [
      "cube of 0 is 0\n",
      "cube of 1 is 1\n",
      "cube of 2 is 8\n",
      "cube of 3 is 27\n",
      "cube of 4 is 64\n",
      "cube of 5 is 125\n",
      "cube of 6 is 216\n",
      "cube of 7 is 343\n",
      "cube of 8 is 512\n",
      "cube of 9 is 729\n",
      "cube of 10 is 1000\n"
     ]
    }
   ],
   "source": [
    "cube=1\n",
    "for i in range(0,11):\n",
    "    cube=(i*i*i)\n",
    "    print(\"cube of\",i,\"is\",cube)"
   ]
  },
  {
   "cell_type": "code",
   "execution_count": 16,
   "metadata": {},
   "outputs": [
    {
     "name": "stdout",
     "output_type": "stream",
     "text": [
      "1000\n"
     ]
    }
   ],
   "source": [
    "cube=1\n",
    "while(i<11):\n",
    "    cube=(i*i*i)\n",
    "    print(cube)\n",
    "    i=i+1"
   ]
  },
  {
   "cell_type": "code",
   "execution_count": 18,
   "metadata": {},
   "outputs": [
    {
     "name": "stdout",
     "output_type": "stream",
     "text": [
      "1\n",
      "8\n",
      "27\n",
      "64\n",
      "125\n",
      "216\n",
      "343\n",
      "512\n",
      "729\n",
      "1000\n"
     ]
    }
   ],
   "source": [
    "cube=1\n",
    "i=1\n",
    "while i<11:\n",
    "    cube=(i*i*i)\n",
    "    print(cube)\n",
    "    i=i+1"
   ]
  },
  {
   "cell_type": "code",
   "execution_count": 19,
   "metadata": {},
   "outputs": [
    {
     "name": "stdout",
     "output_type": "stream",
     "text": [
      "cube of 1 is 1\n",
      "cube of 2 is 8\n",
      "cube of 3 is 27\n",
      "cube of 4 is 64\n",
      "cube of 5 is 125\n",
      "cube of 6 is 216\n",
      "cube of 7 is 343\n",
      "cube of 8 is 512\n",
      "cube of 9 is 729\n",
      "cube of 10 is 1000\n"
     ]
    }
   ],
   "source": [
    "cube=1\n",
    "i=1\n",
    "while i<11:\n",
    "    cube=(i*i*i)\n",
    "    print(\"cube of\",i,\"is\",cube)\n",
    "    i=i+1"
   ]
  },
  {
   "cell_type": "code",
   "execution_count": 20,
   "metadata": {},
   "outputs": [
    {
     "data": {
      "text/plain": [
       "range(1, 10, 2)"
      ]
     },
     "execution_count": 20,
     "metadata": {},
     "output_type": "execute_result"
    }
   ],
   "source": [
    "range(1,10,2)"
   ]
  },
  {
   "cell_type": "code",
   "execution_count": 21,
   "metadata": {},
   "outputs": [
    {
     "name": "stdout",
     "output_type": "stream",
     "text": [
      "0\n",
      "2\n",
      "4\n",
      "6\n",
      "8\n",
      "10\n",
      "12\n",
      "14\n",
      "16\n",
      "18\n"
     ]
    }
   ],
   "source": [
    "for i in range(0,20,2):\n",
    "    print(i)"
   ]
  },
  {
   "cell_type": "code",
   "execution_count": 22,
   "metadata": {},
   "outputs": [
    {
     "name": "stdout",
     "output_type": "stream",
     "text": [
      "0\n",
      "1\n",
      "8\n",
      "27\n",
      "64\n",
      "125\n",
      "216\n",
      "343\n",
      "512\n",
      "729\n",
      "1000\n",
      "start_time 1576214231.9041796 end_time 1576214231.9051628 time: -0.0009832382202148438\n"
     ]
    }
   ],
   "source": [
    "import time\n",
    "start_time=time.time()\n",
    "cube=1\n",
    "for i in range(0,11):\n",
    "    cube=(i*i*i)\n",
    "    print(cube)\n",
    "end_time=time.time()\n",
    "\n",
    "print(\"start_time\",start_time,\"end_time\",end_time,\"time:\",start_time-end_time)\n"
   ]
  },
  {
   "cell_type": "code",
   "execution_count": 26,
   "metadata": {},
   "outputs": [
    {
     "name": "stdout",
     "output_type": "stream",
     "text": [
      "cube of 0 is 0\n",
      "cube of 1 is 1\n",
      "cube of 2 is 8\n",
      "cube of 3 is 27\n",
      "cube of 4 is 64\n",
      "cube of 5 is 125\n",
      "cube of 6 is 216\n",
      "cube of 7 is 343\n",
      "cube of 8 is 512\n",
      "cube of 9 is 729\n",
      "cube of 10 is 1000\n",
      "start_time: 1576214403.8104289 end_time: 1576214403.8134296 time: 0.0030007362365722656\n"
     ]
    }
   ],
   "source": [
    "import time\n",
    "start_time=time.time()\n",
    "cube=1\n",
    "for i in range(0,11):\n",
    "    cube=(i*i*i)\n",
    "    print(\"cube of\",i,\"is\",cube)\n",
    "end_time=time.time()\n",
    "\n",
    "print(\"start_time:\",start_time,\"end_time:\",end_time,\"time:\",end_time-start_time)"
   ]
  },
  {
   "cell_type": "code",
   "execution_count": 25,
   "metadata": {},
   "outputs": [
    {
     "name": "stdout",
     "output_type": "stream",
     "text": [
      "cube of 1 is 1\n",
      "cube of 2 is 8\n",
      "cube of 3 is 27\n",
      "cube of 4 is 64\n",
      "cube of 5 is 125\n",
      "cube of 6 is 216\n",
      "cube of 7 is 343\n",
      "cube of 8 is 512\n",
      "cube of 9 is 729\n",
      "cube of 10 is 1000\n",
      "start_time: 1576214362.082119 end_time: 1576214362.0851173 time: 0.00299835205078125\n"
     ]
    }
   ],
   "source": [
    "import time\n",
    "start_time=time.time()\n",
    "cube=1\n",
    "i=1\n",
    "while i<11:\n",
    "    cube=(i*i*i)\n",
    "    print(\"cube of\",i,\"is\",cube)\n",
    "    i=i+1\n",
    "end_time=time.time()\n",
    "\n",
    "print(\"start_time:\",start_time,\"end_time:\",end_time,\"time:\",end_time-start_time)"
   ]
  },
  {
   "cell_type": "code",
   "execution_count": 27,
   "metadata": {},
   "outputs": [
    {
     "name": "stdout",
     "output_type": "stream",
     "text": [
      "cube of 0 is 0\n",
      "cube of 1 is 1\n",
      "cube of 2 is 8\n",
      "cube of 3 is 27\n",
      "cube of 4 is 64\n",
      "cube of 5 is 125\n",
      "cube of 6 is 216\n",
      "cube of 7 is 343\n",
      "cube of 8 is 512\n",
      "cube of 9 is 729\n",
      "cube of 10 is 1000\n",
      "cube of 11 is 1331\n",
      "cube of 12 is 1728\n",
      "cube of 13 is 2197\n",
      "cube of 14 is 2744\n",
      "cube of 15 is 3375\n",
      "cube of 16 is 4096\n",
      "cube of 17 is 4913\n",
      "cube of 18 is 5832\n",
      "cube of 19 is 6859\n",
      "cube of 20 is 8000\n",
      "cube of 21 is 9261\n",
      "cube of 22 is 10648\n",
      "cube of 23 is 12167\n",
      "cube of 24 is 13824\n",
      "cube of 25 is 15625\n",
      "cube of 26 is 17576\n",
      "cube of 27 is 19683\n",
      "cube of 28 is 21952\n",
      "cube of 29 is 24389\n",
      "cube of 30 is 27000\n",
      "cube of 31 is 29791\n",
      "cube of 32 is 32768\n",
      "cube of 33 is 35937\n",
      "cube of 34 is 39304\n",
      "cube of 35 is 42875\n",
      "cube of 36 is 46656\n",
      "cube of 37 is 50653\n",
      "cube of 38 is 54872\n",
      "cube of 39 is 59319\n",
      "cube of 40 is 64000\n",
      "cube of 41 is 68921\n",
      "cube of 42 is 74088\n",
      "cube of 43 is 79507\n",
      "cube of 44 is 85184\n",
      "cube of 45 is 91125\n",
      "cube of 46 is 97336\n",
      "cube of 47 is 103823\n",
      "cube of 48 is 110592\n",
      "cube of 49 is 117649\n",
      "cube of 1 is 1\n",
      "cube of 2 is 8\n",
      "cube of 3 is 27\n",
      "cube of 4 is 64\n",
      "cube of 5 is 125\n",
      "cube of 6 is 216\n",
      "cube of 7 is 343\n",
      "cube of 8 is 512\n",
      "cube of 9 is 729\n",
      "cube of 10 is 1000\n",
      "cube of 11 is 1331\n",
      "cube of 12 is 1728\n",
      "cube of 13 is 2197\n",
      "cube of 14 is 2744\n",
      "cube of 15 is 3375\n",
      "cube of 16 is 4096\n",
      "cube of 17 is 4913\n",
      "cube of 18 is 5832\n",
      "cube of 19 is 6859\n",
      "cube of 20 is 8000\n",
      "cube of 21 is 9261\n",
      "cube of 22 is 10648\n",
      "cube of 23 is 12167\n",
      "cube of 24 is 13824\n",
      "cube of 25 is 15625\n",
      "cube of 26 is 17576\n",
      "cube of 27 is 19683\n",
      "cube of 28 is 21952\n",
      "cube of 29 is 24389\n",
      "cube of 30 is 27000\n",
      "cube of 31 is 29791\n",
      "cube of 32 is 32768\n",
      "cube of 33 is 35937\n",
      "cube of 34 is 39304\n",
      "cube of 35 is 42875\n",
      "cube of 36 is 46656\n",
      "cube of 37 is 50653\n",
      "cube of 38 is 54872\n",
      "cube of 39 is 59319\n",
      "cube of 40 is 64000\n",
      "cube of 41 is 68921\n",
      "cube of 42 is 74088\n",
      "cube of 43 is 79507\n",
      "cube of 44 is 85184\n",
      "cube of 45 is 91125\n",
      "cube of 46 is 97336\n",
      "cube of 47 is 103823\n",
      "cube of 48 is 110592\n",
      "cube of 49 is 117649\n",
      "Time for for loop: 0.009990692138671875\n",
      "Time for while loop: 0.008991479873657227\n"
     ]
    }
   ],
   "source": [
    "import time\n",
    "start_time=time.time()\n",
    "cube=1\n",
    "for i in range(0,50):\n",
    "    cube=(i*i*i)\n",
    "    print(\"cube of\",i,\"is\",cube)\n",
    "end_time=time.time()\n",
    "\n",
    "import time\n",
    "start_time1=time.time()\n",
    "cube=1\n",
    "i=1\n",
    "while i<50:\n",
    "    cube=(i*i*i)\n",
    "    print(\"cube of\",i,\"is\",cube)\n",
    "    i=i+1\n",
    "end_time1=time.time()\n",
    "\n",
    "\n",
    "print(\"Time for for loop:\",end_time-start_time)\n",
    "print(\"Time for while loop:\",end_time1-start_time1)"
   ]
  },
  {
   "cell_type": "code",
   "execution_count": 31,
   "metadata": {},
   "outputs": [
    {
     "name": "stdout",
     "output_type": "stream",
     "text": [
      "Enter no\n",
      "3\n",
      "cube is:  27\n"
     ]
    }
   ],
   "source": [
    "def mycubicfunc(cube):\n",
    "    cube=cube**3\n",
    "    return cube\n",
    "\n",
    "print(\"Enter no\")\n",
    "no=int(input())\n",
    "var=mycubicfunc(no)\n",
    "print(\"cube is: \",var)"
   ]
  },
  {
   "cell_type": "code",
   "execution_count": 34,
   "metadata": {},
   "outputs": [
    {
     "name": "stdout",
     "output_type": "stream",
     "text": [
      "Squareroot of no : 10.0\n",
      "Power of no : 16.0\n"
     ]
    }
   ],
   "source": [
    "import math as m\n",
    "print(\"Squareroot of no :\",m.sqrt(100))\n",
    "\n",
    "print(\"Power of no :\",m.pow(4,2))\n",
    "\n"
   ]
  },
  {
   "cell_type": "code",
   "execution_count": 35,
   "metadata": {},
   "outputs": [
    {
     "name": "stdout",
     "output_type": "stream",
     "text": [
      "Squareroot of no : 10.0\n",
      "Power of no : 16.0\n"
     ]
    }
   ],
   "source": [
    "import math as m\n",
    "print(\"Squareroot of no :\",m.sqrt(100))\n",
    "\n",
    "print(\"Power of no :\",m.pow(4,2))\n"
   ]
  },
  {
   "cell_type": "code",
   "execution_count": 1,
   "metadata": {},
   "outputs": [
    {
     "name": "stdout",
     "output_type": "stream",
     "text": [
      "Squareroot of no : 10.0\n",
      "Power of no : 16.0\n"
     ]
    }
   ],
   "source": [
    "#explore how to define default value for a function\n",
    "\n",
    "import math as m\n",
    "print(\"Squareroot of no :\",m.sqrt(100))\n",
    "\n",
    "print(\"Power of no :\",m.pow(4,2))"
   ]
  },
  {
   "cell_type": "code",
   "execution_count": 2,
   "metadata": {},
   "outputs": [],
   "source": [
    "import math as m"
   ]
  },
  {
   "cell_type": "code",
   "execution_count": 1,
   "metadata": {},
   "outputs": [
    {
     "ename": "NameError",
     "evalue": "name 'm' is not defined",
     "output_type": "error",
     "traceback": [
      "\u001b[1;31m---------------------------------------------------------------------------\u001b[0m",
      "\u001b[1;31mNameError\u001b[0m                                 Traceback (most recent call last)",
      "\u001b[1;32m<ipython-input-1-bd3f83939eca>\u001b[0m in \u001b[0;36m<module>\u001b[1;34m\u001b[0m\n\u001b[1;32m----> 1\u001b[1;33m \u001b[0mprint\u001b[0m\u001b[1;33m(\u001b[0m\u001b[1;34m\"Squareroot of no :\"\u001b[0m\u001b[1;33m,\u001b[0m\u001b[0mm\u001b[0m\u001b[1;33m.\u001b[0m\u001b[0msqrt\u001b[0m\u001b[1;33m(\u001b[0m\u001b[1;36m100\u001b[0m\u001b[1;33m)\u001b[0m\u001b[1;33m)\u001b[0m\u001b[1;33m\u001b[0m\u001b[1;33m\u001b[0m\u001b[0m\n\u001b[0m\u001b[0;32m      2\u001b[0m \u001b[1;33m\u001b[0m\u001b[0m\n\u001b[0;32m      3\u001b[0m \u001b[0mprint\u001b[0m\u001b[1;33m(\u001b[0m\u001b[1;34m\"Power of no :\"\u001b[0m\u001b[1;33m,\u001b[0m\u001b[0mm\u001b[0m\u001b[1;33m.\u001b[0m\u001b[0mpow\u001b[0m\u001b[1;33m(\u001b[0m\u001b[1;36m4\u001b[0m\u001b[1;33m,\u001b[0m\u001b[1;36m2\u001b[0m\u001b[1;33m)\u001b[0m\u001b[1;33m)\u001b[0m\u001b[1;33m\u001b[0m\u001b[1;33m\u001b[0m\u001b[0m\n",
      "\u001b[1;31mNameError\u001b[0m: name 'm' is not defined"
     ]
    }
   ],
   "source": [
    "print(\"Squareroot of no :\",m.sqrt(100))\n",
    "\n",
    "print(\"Power of no :\",m.pow(4,2))\n",
    "\n",
    "#error happens becox math is not imported here "
   ]
  },
  {
   "cell_type": "code",
   "execution_count": 2,
   "metadata": {},
   "outputs": [
    {
     "name": "stdout",
     "output_type": "stream",
     "text": [
      "Squareroot of no : 10.0\n",
      "Power of no : 16.0\n"
     ]
    },
    {
     "ename": "AttributeError",
     "evalue": "module 'math' has no attribute 'mod'",
     "output_type": "error",
     "traceback": [
      "\u001b[1;31m---------------------------------------------------------------------------\u001b[0m",
      "\u001b[1;31mAttributeError\u001b[0m                            Traceback (most recent call last)",
      "\u001b[1;32m<ipython-input-2-7e340f0ab5b4>\u001b[0m in \u001b[0;36m<module>\u001b[1;34m\u001b[0m\n\u001b[0;32m      7\u001b[0m \u001b[1;33m\u001b[0m\u001b[0m\n\u001b[0;32m      8\u001b[0m \u001b[0mprint\u001b[0m\u001b[1;33m(\u001b[0m\u001b[1;34m\"Power of no :\"\u001b[0m\u001b[1;33m,\u001b[0m\u001b[0mm\u001b[0m\u001b[1;33m.\u001b[0m\u001b[0mpow\u001b[0m\u001b[1;33m(\u001b[0m\u001b[1;36m4\u001b[0m\u001b[1;33m,\u001b[0m\u001b[1;36m2\u001b[0m\u001b[1;33m)\u001b[0m\u001b[1;33m)\u001b[0m\u001b[1;33m\u001b[0m\u001b[1;33m\u001b[0m\u001b[0m\n\u001b[1;32m----> 9\u001b[1;33m \u001b[0mprint\u001b[0m\u001b[1;33m(\u001b[0m\u001b[0mm\u001b[0m\u001b[1;33m.\u001b[0m\u001b[0mmod\u001b[0m\u001b[1;33m(\u001b[0m\u001b[1;36m3\u001b[0m\u001b[1;33m,\u001b[0m\u001b[1;36m2\u001b[0m\u001b[1;33m)\u001b[0m\u001b[1;33m)\u001b[0m\u001b[1;33m\u001b[0m\u001b[1;33m\u001b[0m\u001b[0m\n\u001b[0m",
      "\u001b[1;31mAttributeError\u001b[0m: module 'math' has no attribute 'mod'"
     ]
    }
   ],
   "source": [
    "#file handling\n",
    "#download any csv file which is free\n",
    "\n",
    "\n",
    "import math as m\n",
    "print(\"Squareroot of no :\",m.sqrt(100))\n",
    "\n",
    "print(\"Power of no :\",m.pow(4,2))\n",
    "print(m.mod(3,2))"
   ]
  },
  {
   "cell_type": "code",
   "execution_count": 3,
   "metadata": {},
   "outputs": [
    {
     "name": "stdout",
     "output_type": "stream",
     "text": [
      "Squareroot of no : 10.0\n",
      "Power of no : 16.0\n",
      "Exponential : 2.6881171418161356e+43\n",
      "Logarithmic value: 2.302585092994046\n"
     ]
    }
   ],
   "source": [
    "import math as m\n",
    "print(\"Squareroot of no :\",m.sqrt(100))\n",
    "\n",
    "print(\"Power of no :\",m.pow(4,2))\n",
    "print(\"Exponential :\",m.exp(100))\n",
    "print(\"Logarithmic value:\",m.log(10))"
   ]
  },
  {
   "cell_type": "code",
   "execution_count": null,
   "metadata": {},
   "outputs": [],
   "source": []
  }
 ],
 "metadata": {
  "kernelspec": {
   "display_name": "Python 3",
   "language": "python",
   "name": "python3"
  },
  "language_info": {
   "codemirror_mode": {
    "name": "ipython",
    "version": 3
   },
   "file_extension": ".py",
   "mimetype": "text/x-python",
   "name": "python",
   "nbconvert_exporter": "python",
   "pygments_lexer": "ipython3",
   "version": "3.7.3"
  }
 },
 "nbformat": 4,
 "nbformat_minor": 2
}
