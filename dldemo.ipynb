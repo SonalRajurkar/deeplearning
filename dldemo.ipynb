{
 "cells": [
  {
   "cell_type": "code",
   "execution_count": 1,
   "metadata": {},
   "outputs": [
    {
     "name": "stdout",
     "output_type": "stream",
     "text": [
      "Shakespeare gave the best theatrics to the world\n"
     ]
    }
   ],
   "source": [
    "var=\"Shakespeare gave the best theatrics to the world\"\n",
    "print(var)\n"
   ]
  },
  {
   "cell_type": "code",
   "execution_count": 2,
   "metadata": {},
   "outputs": [
    {
     "ename": "SyntaxError",
     "evalue": "EOL while scanning string literal (<ipython-input-2-ae91158badc4>, line 1)",
     "output_type": "error",
     "traceback": [
      "\u001b[1;36m  File \u001b[1;32m\"<ipython-input-2-ae91158badc4>\"\u001b[1;36m, line \u001b[1;32m1\u001b[0m\n\u001b[1;33m    var='Shakespeare gave the best theatrics to the world\"\u001b[0m\n\u001b[1;37m                                                          ^\u001b[0m\n\u001b[1;31mSyntaxError\u001b[0m\u001b[1;31m:\u001b[0m EOL while scanning string literal\n"
     ]
    }
   ],
   "source": [
    "var='Shakespeare gave the best theatrics to the world\"\n",
    "print(var)\n"
   ]
  },
  {
   "cell_type": "code",
   "execution_count": 3,
   "metadata": {},
   "outputs": [
    {
     "name": "stdout",
     "output_type": "stream",
     "text": [
      "Shakespeare was born and raised in Stratford-upon-Avon, Warwickshire. At the age of 18, he married Anne Hathaway, with whom he had three children: Susanna and twins Hamnet and Judith. Sometime between 1585 and 1592, he began a successful career in London as an actor, writer, and part-owner of a playing company called the Lord Chamberlain's Men, later known as the King's Men. At age 49 (around 1613), he appears to have retired to Stratford, where he died three years later. Few records of Shakespeare's private life survive; this has stimulated considerable speculation about such matters as\n"
     ]
    }
   ],
   "source": [
    "value=\"Shakespeare was born and raised in Stratford-upon-Avon, Warwickshire. At the age of 18, he married Anne Hathaway, with whom he had three children: Susanna and twins Hamnet and Judith. Sometime between 1585 and 1592, he began a successful career in London as an actor, writer, and part-owner of a playing company called the Lord Chamberlain's Men, later known as the King's Men. At age 49 (around 1613), he appears to have retired to Stratford, where he died three years later. Few records of Shakespeare's private life survive; this has stimulated considerable speculation about such matters as\"\n",
    "print(value)\n"
   ]
  },
  {
   "cell_type": "code",
   "execution_count": 4,
   "metadata": {},
   "outputs": [
    {
     "name": "stdout",
     "output_type": "stream",
     "text": [
      "Shakespeare was born and raised in Stratford-upon-Avon, Warwickshire. At the age of 18, he married Anne Hathaway, with whom he had three children: Susanna and twins Hamnet and Judith. Sometime between 1585 and 1592, he began a successful career in London as an actor, writer, and part-owner of a playing company called the Lord Chamberlain's Men, later known as the King's Men. At age 49 (around 1613), he appears to have retired to Stratford, where he died three years later. Few records of Shakespeare's private life survive; this has stimulated considerable speculation about such matters as \n"
     ]
    }
   ],
   "source": [
    "value=\"\"\"Shakespeare was born and raised in Stratford-upon-Avon, Warwickshire. At the age of 18, he married Anne Hathaway, with whom he had three children: Susanna and twins Hamnet and Judith. Sometime between 1585 and 1592, he began a successful career in London as an actor, writer, and part-owner of a playing company called the Lord Chamberlain's Men, later known as the King's Men. At age 49 (around 1613), he appears to have retired to Stratford, where he died three years later. Few records of Shakespeare's private life survive; this has stimulated considerable speculation about such matters as \"\"\"\n",
    "print(value)\n"
   ]
  },
  {
   "cell_type": "code",
   "execution_count": 5,
   "metadata": {},
   "outputs": [
    {
     "name": "stdout",
     "output_type": "stream",
     "text": [
      "Shakespeare produced most of his known works between 1589 and 1613.[11][12][d] His early plays were primarily comedies and histories and are regarded as some of the best work produced in these genres. Until about 1608, he wrote mainly tragedies, among them Hamlet, Othello, King Lear, and Macbeth, all considered to be among the finest works in the English language.[2][3][4] In the last phase of his life, he wrote tragicomedies (also known as romances) and collaborated with other playwrights.\n",
      "\n",
      "Many of Shakespeare's plays were published in editions of varying quality and accuracy in his lifetime. However, in 1623, two fellow actors and friends of Shakespeare's, John Heminges and Henry Condell, published a more definitive text known as the First Folio, a posthumous collected edition of Shakespeare's dramatic works that included all but two of his plays.[13] The volume was prefaced with a poem by Ben Jonson, in which Jonson presciently hails Shakespeare in a now-famous quote as \"not of an age, but for all time\".[13]\n",
      "\n",
      "Throughout the 20th and 21st centuries, Shakespeare's works have been continually adapted and rediscovered by new movements in scholarship and performance. His plays remain popular and are studied, performed, and reinterpreted through various cultural and political contexts around the world.\n"
     ]
    }
   ],
   "source": [
    "value=\"\"\"Shakespeare produced most of his known works between 1589 and 1613.[11][12][d] His early plays were primarily comedies and histories and are regarded as some of the best work produced in these genres. Until about 1608, he wrote mainly tragedies, among them Hamlet, Othello, King Lear, and Macbeth, all considered to be among the finest works in the English language.[2][3][4] In the last phase of his life, he wrote tragicomedies (also known as romances) and collaborated with other playwrights.\n",
    "\n",
    "Many of Shakespeare's plays were published in editions of varying quality and accuracy in his lifetime. However, in 1623, two fellow actors and friends of Shakespeare's, John Heminges and Henry Condell, published a more definitive text known as the First Folio, a posthumous collected edition of Shakespeare's dramatic works that included all but two of his plays.[13] The volume was prefaced with a poem by Ben Jonson, in which Jonson presciently hails Shakespeare in a now-famous quote as \"not of an age, but for all time\".[13]\n",
    "\n",
    "Throughout the 20th and 21st centuries, Shakespeare's works have been continually adapted and rediscovered by new movements in scholarship and performance. His plays remain popular and are studied, performed, and reinterpreted through various cultural and political contexts around the world.\"\"\"\n",
    "print(value)"
   ]
  },
  {
   "cell_type": "code",
   "execution_count": 6,
   "metadata": {},
   "outputs": [
    {
     "name": "stdout",
     "output_type": "stream",
     "text": [
      "Shakespeare produced most of his known works between 1589 and 1613.\n",
      "[11][12][d] His early plays were primarily comedies and histories and are regarded\n",
      "as some of the best work produced in these genres. Until about 1608, he wrote mainly tragedies, \n",
      "among them Hamlet, Othello, King Lear, and Macbeth, all considered to be among the finest works\n",
      "in the English language.[2][3][4] In the last phase of his life, he wrote tragicomedies (also known as romances)\n",
      "and collaborated with other playwrights.\n",
      "\n",
      "Many of Shakespeare's plays were published in editions of varying \n",
      "quality and accuracy in his lifetime. However, in 1623, two fellow \n",
      "actors and friends of Shakespeare's, John Heminges and Henry Condell,\n",
      "published a more definitive text known as the First Folio, a \n",
      "posthumous collected edition of Shakespeare's dramatic works that\n",
      "included all but two of his plays.[13] The volume was prefaced with a\n",
      "poem by Ben Jonson, in which Jonson presciently hails Shakespeare in a\n",
      "now-famous quote as \"not of an age, but for all time\".[13]\n",
      "\n",
      "Throughout the 20th and 21st centuries, Shakespeare's works have been\n",
      "continually adapted and rediscovered by new movements in scholarship and\n",
      "performance. His plays remain popular and are studied, performed, and reinterpreted\n",
      "through various cultural and political contexts around the world.\n"
     ]
    }
   ],
   "source": [
    "value=\"\"\"Shakespeare produced most of his known works between 1589 and 1613.\n",
    "[11][12][d] His early plays were primarily comedies and histories and are regarded\n",
    "as some of the best work produced in these genres. Until about 1608, he wrote mainly tragedies, \n",
    "among them Hamlet, Othello, King Lear, and Macbeth, all considered to be among the finest works\n",
    "in the English language.[2][3][4] In the last phase of his life, he wrote tragicomedies (also known as romances)\n",
    "and collaborated with other playwrights.\n",
    "\n",
    "Many of Shakespeare's plays were published in editions of varying \n",
    "quality and accuracy in his lifetime. However, in 1623, two fellow \n",
    "actors and friends of Shakespeare's, John Heminges and Henry Condell,\n",
    "published a more definitive text known as the First Folio, a \n",
    "posthumous collected edition of Shakespeare's dramatic works that\n",
    "included all but two of his plays.[13] The volume was prefaced with a\n",
    "poem by Ben Jonson, in which Jonson presciently hails Shakespeare in a\n",
    "now-famous quote as \"not of an age, but for all time\".[13]\n",
    "\n",
    "Throughout the 20th and 21st centuries, Shakespeare's works have been\n",
    "continually adapted and rediscovered by new movements in scholarship and\n",
    "performance. His plays remain popular and are studied, performed, and reinterpreted\n",
    "through various cultural and political contexts around the world.\"\"\"\n",
    "print(value)"
   ]
  },
  {
   "cell_type": "code",
   "execution_count": 7,
   "metadata": {},
   "outputs": [
    {
     "ename": "SyntaxError",
     "evalue": "invalid syntax (<ipython-input-7-aa721637dcfb>, line 1)",
     "output_type": "error",
     "traceback": [
      "\u001b[1;36m  File \u001b[1;32m\"<ipython-input-7-aa721637dcfb>\"\u001b[1;36m, line \u001b[1;32m1\u001b[0m\n\u001b[1;33m    value='I don't like kiwi fruit'\u001b[0m\n\u001b[1;37m                 ^\u001b[0m\n\u001b[1;31mSyntaxError\u001b[0m\u001b[1;31m:\u001b[0m invalid syntax\n"
     ]
    }
   ],
   "source": [
    "value='I don't like kiwi fruit'\n",
    "print(value)"
   ]
  },
  {
   "cell_type": "code",
   "execution_count": 8,
   "metadata": {},
   "outputs": [
    {
     "name": "stdout",
     "output_type": "stream",
     "text": [
      "I don't like kiwi fruit\n"
     ]
    }
   ],
   "source": [
    "value='I don\\'t like kiwi fruit'\n",
    "print(value)"
   ]
  },
  {
   "cell_type": "code",
   "execution_count": 9,
   "metadata": {},
   "outputs": [
    {
     "name": "stdout",
     "output_type": "stream",
     "text": [
      "['Paris', 'Rome', 'Berlin', 'London', 'Athens', 'Amsterdam', 'Dublin', 'Lisbon', 'Madrid', 'Hamburg']\n"
     ]
    }
   ],
   "source": [
    "cities=[\"Paris\",\"Rome\",\"Berlin\",\"London\",\"Athens\",\"Amsterdam\",\"Dublin\",\"Lisbon\",\"Madrid\",\"Hamburg\"]\n",
    "print(cities)\n"
   ]
  },
  {
   "cell_type": "code",
   "execution_count": 10,
   "metadata": {},
   "outputs": [
    {
     "name": "stdout",
     "output_type": "stream",
     "text": [
      "Paris\n"
     ]
    }
   ],
   "source": [
    "cities=[\"Paris\",\"Rome\",\"Berlin\",\"London\",\"Athens\",\"Amsterdam\",\"Dublin\",\"Lisbon\",\"Madrid\",\"Hamburg\"]\n",
    "print(cities[0])\n"
   ]
  },
  {
   "cell_type": "code",
   "execution_count": 11,
   "metadata": {},
   "outputs": [
    {
     "name": "stdout",
     "output_type": "stream",
     "text": [
      "['Paris', 'Rome', 'Berlin', 'London', 'Athens', 'Amsterdam', 'Dublin', 'Lisbon', 'Madrid', 'Hamburg']\n"
     ]
    }
   ],
   "source": [
    "cities=['Paris','Rome','Berlin','London','Athens','Amsterdam','Dublin','Lisbon','Madrid','Hamburg']\n",
    "print(cities)"
   ]
  },
  {
   "cell_type": "code",
   "execution_count": 12,
   "metadata": {},
   "outputs": [
    {
     "ename": "SyntaxError",
     "evalue": "invalid syntax (<ipython-input-12-f7477efdb9c9>, line 2)",
     "output_type": "error",
     "traceback": [
      "\u001b[1;36m  File \u001b[1;32m\"<ipython-input-12-f7477efdb9c9>\"\u001b[1;36m, line \u001b[1;32m2\u001b[0m\n\u001b[1;33m    for(i=0;i<10;i++):\u001b[0m\n\u001b[1;37m         ^\u001b[0m\n\u001b[1;31mSyntaxError\u001b[0m\u001b[1;31m:\u001b[0m invalid syntax\n"
     ]
    }
   ],
   "source": [
    "cities=['Paris','Rome','Berlin','London','Athens','Amsterdam','Dublin','Lisbon','Madrid','Hamburg']\n",
    "for(i=0;i<10;i++):\n",
    "    print(cities[i])"
   ]
  },
  {
   "cell_type": "code",
   "execution_count": 13,
   "metadata": {},
   "outputs": [
    {
     "ename": "SyntaxError",
     "evalue": "invalid syntax (<ipython-input-13-7ccd2acb50b2>, line 3)",
     "output_type": "error",
     "traceback": [
      "\u001b[1;36m  File \u001b[1;32m\"<ipython-input-13-7ccd2acb50b2>\"\u001b[1;36m, line \u001b[1;32m3\u001b[0m\n\u001b[1;33m    for(i to 10):\u001b[0m\n\u001b[1;37m           ^\u001b[0m\n\u001b[1;31mSyntaxError\u001b[0m\u001b[1;31m:\u001b[0m invalid syntax\n"
     ]
    }
   ],
   "source": [
    "cities=['Paris','Rome','Berlin','London','Athens','Amsterdam','Dublin','Lisbon','Madrid','Hamburg']\n",
    "i=0\n",
    "for(i to 10):\n",
    "    print(cities[i])"
   ]
  },
  {
   "cell_type": "code",
   "execution_count": 14,
   "metadata": {},
   "outputs": [
    {
     "ename": "SyntaxError",
     "evalue": "invalid syntax (<ipython-input-14-982bf6ae6ab7>, line 2)",
     "output_type": "error",
     "traceback": [
      "\u001b[1;36m  File \u001b[1;32m\"<ipython-input-14-982bf6ae6ab7>\"\u001b[1;36m, line \u001b[1;32m2\u001b[0m\n\u001b[1;33m    for i in range 1..10:\u001b[0m\n\u001b[1;37m                    ^\u001b[0m\n\u001b[1;31mSyntaxError\u001b[0m\u001b[1;31m:\u001b[0m invalid syntax\n"
     ]
    }
   ],
   "source": [
    "cities=['Paris','Rome','Berlin','London','Athens','Amsterdam','Dublin','Lisbon','Madrid','Hamburg']\n",
    "for i in range 1..10:\n",
    "    print(cities[i])"
   ]
  },
  {
   "cell_type": "code",
   "execution_count": 15,
   "metadata": {},
   "outputs": [
    {
     "name": "stdout",
     "output_type": "stream",
     "text": [
      "['Paris', 'Rome', 'Berlin', 'London', 'Athens', 'Amsterdam', 'Dublin', 'Lisbon', 'Madrid', 'Hamburg', 'Munich']\n"
     ]
    }
   ],
   "source": [
    "cities=['Paris','Rome','Berlin','London','Athens','Amsterdam','Dublin','Lisbon','Madrid','Hamburg']\n",
    "cities.append('Munich')\n",
    "print(cities)"
   ]
  },
  {
   "cell_type": "code",
   "execution_count": 16,
   "metadata": {},
   "outputs": [
    {
     "name": "stdout",
     "output_type": "stream",
     "text": [
      "['Paris', 'Rome', 'Berlin', 'London', 'Athens', 'Amsterdam', 'Dublin', 'Lisbon', 'Madrid', 'Hamburg']\n"
     ]
    }
   ],
   "source": [
    "cities=['Paris','Rome','Berlin','London','Athens','Amsterdam','Dublin','Lisbon','Madrid','Hamburg','Munich']\n",
    "cities.remove('Munich')\n",
    "print(cities)"
   ]
  },
  {
   "cell_type": "code",
   "execution_count": 17,
   "metadata": {},
   "outputs": [
    {
     "name": "stdout",
     "output_type": "stream",
     "text": [
      "('Paris', 'Rome', 'Berlin', 'London', 'Athens', 'Amsterdam', 'Dublin', 'Lisbon', 'Madrid', 'Hamburg', 'Munich')\n"
     ]
    }
   ],
   "source": [
    "tup=('Paris','Rome','Berlin','London','Athens','Amsterdam','Dublin','Lisbon','Madrid','Hamburg','Munich')\n",
    "print(tup)"
   ]
  },
  {
   "cell_type": "code",
   "execution_count": 18,
   "metadata": {},
   "outputs": [
    {
     "ename": "AttributeError",
     "evalue": "'tuple' object has no attribute 'append'",
     "output_type": "error",
     "traceback": [
      "\u001b[1;31m---------------------------------------------------------------------------\u001b[0m",
      "\u001b[1;31mAttributeError\u001b[0m                            Traceback (most recent call last)",
      "\u001b[1;32m<ipython-input-18-eec871536d95>\u001b[0m in \u001b[0;36m<module>\u001b[1;34m\u001b[0m\n\u001b[0;32m      1\u001b[0m \u001b[0mtup\u001b[0m\u001b[1;33m=\u001b[0m\u001b[1;33m(\u001b[0m\u001b[1;34m'Paris'\u001b[0m\u001b[1;33m,\u001b[0m\u001b[1;34m'Rome'\u001b[0m\u001b[1;33m,\u001b[0m\u001b[1;34m'Berlin'\u001b[0m\u001b[1;33m,\u001b[0m\u001b[1;34m'London'\u001b[0m\u001b[1;33m,\u001b[0m\u001b[1;34m'Athens'\u001b[0m\u001b[1;33m,\u001b[0m\u001b[1;34m'Amsterdam'\u001b[0m\u001b[1;33m,\u001b[0m\u001b[1;34m'Dublin'\u001b[0m\u001b[1;33m,\u001b[0m\u001b[1;34m'Lisbon'\u001b[0m\u001b[1;33m,\u001b[0m\u001b[1;34m'Madrid'\u001b[0m\u001b[1;33m,\u001b[0m\u001b[1;34m'Hamburg'\u001b[0m\u001b[1;33m,\u001b[0m\u001b[1;34m'Munich'\u001b[0m\u001b[1;33m)\u001b[0m\u001b[1;33m\u001b[0m\u001b[1;33m\u001b[0m\u001b[0m\n\u001b[1;32m----> 2\u001b[1;33m \u001b[0mtup\u001b[0m\u001b[1;33m.\u001b[0m\u001b[0mappend\u001b[0m\u001b[1;33m(\u001b[0m\u001b[1;34m'Prague'\u001b[0m\u001b[1;33m)\u001b[0m\u001b[1;33m\u001b[0m\u001b[1;33m\u001b[0m\u001b[0m\n\u001b[0m\u001b[0;32m      3\u001b[0m \u001b[0mprint\u001b[0m\u001b[1;33m(\u001b[0m\u001b[0mtup\u001b[0m\u001b[1;33m)\u001b[0m\u001b[1;33m\u001b[0m\u001b[1;33m\u001b[0m\u001b[0m\n",
      "\u001b[1;31mAttributeError\u001b[0m: 'tuple' object has no attribute 'append'"
     ]
    }
   ],
   "source": [
    "tup=('Paris','Rome','Berlin','London','Athens','Amsterdam','Dublin','Lisbon','Madrid','Hamburg','Munich')\n",
    "tup.append('Prague')\n",
    "print(tup)"
   ]
  },
  {
   "cell_type": "code",
   "execution_count": 20,
   "metadata": {},
   "outputs": [
    {
     "name": "stdout",
     "output_type": "stream",
     "text": [
      "{'Virat Kohli': 'Cricket', 'Roger Faderer': 'Tennis', 'P T Usha': 'Athelitics', 'Mary Kom': 'Boxing'}\n"
     ]
    }
   ],
   "source": [
    "dict={'Virat Kohli':'Cricket','Roger Faderer':'Tennis','P T Usha':'Athelitics','Mary Kom':'Boxing'}\n",
    "#tup=tuple(dict)\n",
    "print(dict)"
   ]
  },
  {
   "cell_type": "code",
   "execution_count": 21,
   "metadata": {},
   "outputs": [
    {
     "name": "stdout",
     "output_type": "stream",
     "text": [
      "{'Virat Kohli': 'Cricket', 'Roger Faderer': 'Tennis', 'P T Usha': 'Athelitics', 'Mary Kom': 'Boxing'}\n"
     ]
    }
   ],
   "source": [
    "dict={'Virat Kohli':'Cricket','Roger Faderer':'Tennis','P T Usha':'Athelitics','Mary Kom':'Boxing'}\n",
    "tup=tuple(dict)\n",
    "print(dict)"
   ]
  },
  {
   "cell_type": "code",
   "execution_count": 22,
   "metadata": {},
   "outputs": [
    {
     "name": "stdout",
     "output_type": "stream",
     "text": [
      "(102, 324, 'mgb')\n"
     ]
    }
   ],
   "source": [
    "s=(102,324,'mgb')\n",
    "print(s)"
   ]
  },
  {
   "cell_type": "code",
   "execution_count": 23,
   "metadata": {},
   "outputs": [
    {
     "name": "stdout",
     "output_type": "stream",
     "text": [
      "[102, 324, 'mgb']\n"
     ]
    }
   ],
   "source": [
    "s=[102,324,'mgb']\n",
    "print(s)"
   ]
  },
  {
   "cell_type": "code",
   "execution_count": 1,
   "metadata": {},
   "outputs": [
    {
     "ename": "NameError",
     "evalue": "name 'no' is not defined",
     "output_type": "error",
     "traceback": [
      "\u001b[1;31m---------------------------------------------------------------------------\u001b[0m",
      "\u001b[1;31mNameError\u001b[0m                                 Traceback (most recent call last)",
      "\u001b[1;32m<ipython-input-1-f4bca57e5378>\u001b[0m in \u001b[0;36m<module>\u001b[1;34m\u001b[0m\n\u001b[1;32m----> 1\u001b[1;33m \u001b[0ms\u001b[0m\u001b[1;33m=\u001b[0m\u001b[1;33m{\u001b[0m\u001b[0mno\u001b[0m\u001b[1;33m:\u001b[0m\u001b[1;36m102\u001b[0m\u001b[1;33m,\u001b[0m\u001b[0mvalue\u001b[0m\u001b[1;33m:\u001b[0m\u001b[1;36m324\u001b[0m\u001b[1;33m,\u001b[0m\u001b[1;34m'dept'\u001b[0m\u001b[1;33m:\u001b[0m\u001b[1;34m'mgb'\u001b[0m\u001b[1;33m}\u001b[0m\u001b[1;33m\u001b[0m\u001b[1;33m\u001b[0m\u001b[0m\n\u001b[0m\u001b[0;32m      2\u001b[0m \u001b[0mprint\u001b[0m\u001b[1;33m(\u001b[0m\u001b[0ms\u001b[0m\u001b[1;33m)\u001b[0m\u001b[1;33m\u001b[0m\u001b[1;33m\u001b[0m\u001b[0m\n",
      "\u001b[1;31mNameError\u001b[0m: name 'no' is not defined"
     ]
    }
   ],
   "source": [
    "s={no:102,value:324,'dept':'mgb'}\n",
    "print(s)\n"
   ]
  },
  {
   "cell_type": "code",
   "execution_count": 2,
   "metadata": {},
   "outputs": [
    {
     "name": "stdout",
     "output_type": "stream",
     "text": [
      "{'no': 102, 'value': 324, 'dept': 'mgb'}\n"
     ]
    }
   ],
   "source": [
    "s={'no':102,'value':324,'dept':'mgb'}\n",
    "print(s)"
   ]
  },
  {
   "cell_type": "code",
   "execution_count": null,
   "metadata": {},
   "outputs": [],
   "source": []
  }
 ],
 "metadata": {
  "kernelspec": {
   "display_name": "Python 3",
   "language": "python",
   "name": "python3"
  },
  "language_info": {
   "codemirror_mode": {
    "name": "ipython",
    "version": 3
   },
   "file_extension": ".py",
   "mimetype": "text/x-python",
   "name": "python",
   "nbconvert_exporter": "python",
   "pygments_lexer": "ipython3",
   "version": "3.7.3"
  }
 },
 "nbformat": 4,
 "nbformat_minor": 2
}
